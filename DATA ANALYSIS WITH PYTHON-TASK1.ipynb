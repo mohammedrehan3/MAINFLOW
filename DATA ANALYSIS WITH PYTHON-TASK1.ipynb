{
 "cells": [
  {
   "cell_type": "markdown",
   "id": "f032460f",
   "metadata": {},
   "source": [
    "# TASK 1\n",
    "UNDERSTANDING PYTHON DATA TYPES"
   ]
  },
  {
   "cell_type": "code",
   "execution_count": 3,
   "id": "4bdc206a",
   "metadata": {},
   "outputs": [
    {
     "name": "stdout",
     "output_type": "stream",
     "text": [
      "Hello World!\n"
     ]
    }
   ],
   "source": [
    "print(\"Hello World!\")"
   ]
  },
  {
   "cell_type": "markdown",
   "id": "20b46a1b",
   "metadata": {},
   "source": [
    "# DATA TYPE IN PYTHON"
   ]
  },
  {
   "cell_type": "code",
   "execution_count": 4,
   "id": "650a93dc",
   "metadata": {},
   "outputs": [
    {
     "name": "stdout",
     "output_type": "stream",
     "text": [
      "5\n",
      "<class 'int'>\n"
     ]
    }
   ],
   "source": [
    "## INTERGER\n",
    "x=5\n",
    "print(x)\n",
    "print(type(x))"
   ]
  },
  {
   "cell_type": "code",
   "execution_count": 5,
   "id": "e68c399b",
   "metadata": {},
   "outputs": [
    {
     "name": "stdout",
     "output_type": "stream",
     "text": [
      "DATA ANALYSIS WITH PYTHON\n",
      "<class 'str'>\n"
     ]
    }
   ],
   "source": [
    "## STRING\n",
    "x=\"DATA ANALYSIS WITH PYTHON\"\n",
    "print(x)\n",
    "print(type(x))"
   ]
  },
  {
   "cell_type": "code",
   "execution_count": 6,
   "id": "ecf4d0be",
   "metadata": {},
   "outputs": [
    {
     "name": "stdout",
     "output_type": "stream",
     "text": [
      "(2+3j)\n",
      "<class 'complex'>\n"
     ]
    }
   ],
   "source": [
    "## COMPLEX\n",
    "y=2+3j\n",
    "print(y)\n",
    "print(type(y))"
   ]
  },
  {
   "cell_type": "code",
   "execution_count": 7,
   "id": "5bd8ba36",
   "metadata": {},
   "outputs": [
    {
     "name": "stdout",
     "output_type": "stream",
     "text": [
      "4.23\n",
      "<class 'float'>\n"
     ]
    }
   ],
   "source": [
    "## FLOAT\n",
    "z=4.23\n",
    "print(z)\n",
    "print(type(z))"
   ]
  },
  {
   "cell_type": "code",
   "execution_count": 8,
   "id": "82cfcb25",
   "metadata": {},
   "outputs": [
    {
     "name": "stdout",
     "output_type": "stream",
     "text": [
      "True\n",
      "<class 'bool'>\n"
     ]
    }
   ],
   "source": [
    "##BOOLEAN\n",
    "i=True\n",
    "print(i)\n",
    "print(type(i))"
   ]
  },
  {
   "cell_type": "code",
   "execution_count": 9,
   "id": "b69eb737",
   "metadata": {},
   "outputs": [
    {
     "name": "stdout",
     "output_type": "stream",
     "text": [
      "False\n",
      "<class 'bool'>\n"
     ]
    }
   ],
   "source": [
    "## BOOLEAN\n",
    "j=False\n",
    "print(j)\n",
    "print(type(j))"
   ]
  },
  {
   "cell_type": "code",
   "execution_count": 10,
   "id": "b18a369c",
   "metadata": {},
   "outputs": [
    {
     "name": "stdout",
     "output_type": "stream",
     "text": [
      "7\n",
      "<class 'str'>\n"
     ]
    }
   ],
   "source": [
    "## CONVERT INTERGER TO STRING\n",
    "x=str(7)\n",
    "print(x)\n",
    "print(type(x))"
   ]
  },
  {
   "cell_type": "code",
   "execution_count": 11,
   "id": "721b77ee",
   "metadata": {},
   "outputs": [
    {
     "name": "stdout",
     "output_type": "stream",
     "text": [
      "6.0\n",
      "<class 'float'>\n"
     ]
    }
   ],
   "source": [
    "## CONVERT FLOAT TO INTEGER\n",
    "x=float(6)\n",
    "print(x)\n",
    "print(type(x))"
   ]
  },
  {
   "cell_type": "markdown",
   "id": "96092070",
   "metadata": {},
   "source": [
    "# LIST"
   ]
  },
  {
   "cell_type": "markdown",
   "id": "7da4bf3f",
   "metadata": {},
   "source": [
    "The list is an mutuable,the data inside list can be altered even after their creation"
   ]
  },
  {
   "cell_type": "markdown",
   "id": "fc4550e7",
   "metadata": {},
   "source": [
    "Lists are used to store different items in a single variable"
   ]
  },
  {
   "cell_type": "code",
   "execution_count": 12,
   "id": "f04fe737",
   "metadata": {},
   "outputs": [
    {
     "name": "stdout",
     "output_type": "stream",
     "text": [
      "['apple', 'banana', 'cherry', 'dragon', 'grapes', 'papaya']\n",
      "<class 'list'>\n"
     ]
    }
   ],
   "source": [
    "Fruits=[\"apple\",\"banana\",\"cherry\",\"dragon\",\"grapes\",\"papaya\"]\n",
    "print(Fruits)\n",
    "print(type(Fruits))"
   ]
  },
  {
   "cell_type": "code",
   "execution_count": 14,
   "id": "5f7a1dc7",
   "metadata": {},
   "outputs": [
    {
     "data": {
      "text/plain": [
       "['apple', 'banana', 'cherry', 'dragon', 'grapes', 'papaya', 'mango']"
      ]
     },
     "execution_count": 14,
     "metadata": {},
     "output_type": "execute_result"
    }
   ],
   "source": [
    "Fruits.append(\"mango\")\n",
    "Fruits"
   ]
  },
  {
   "cell_type": "code",
   "execution_count": 15,
   "id": "cbe76f2b",
   "metadata": {},
   "outputs": [
    {
     "data": {
      "text/plain": [
       "['apple', 'banana', 'dragon', 'grapes', 'papaya', 'mango']"
      ]
     },
     "execution_count": 15,
     "metadata": {},
     "output_type": "execute_result"
    }
   ],
   "source": [
    "Fruits.remove(\"cherry\")\n",
    "Fruits"
   ]
  },
  {
   "cell_type": "code",
   "execution_count": 18,
   "id": "a31f923d",
   "metadata": {},
   "outputs": [
    {
     "data": {
      "text/plain": [
       "['apple', 'banana', 'dragon', 'watermelon', 'grapes', 'papaya', 'mango']"
      ]
     },
     "execution_count": 18,
     "metadata": {},
     "output_type": "execute_result"
    }
   ],
   "source": [
    "Fruits.insert(3,\"watermelon\")\n",
    "Fruits"
   ]
  },
  {
   "cell_type": "code",
   "execution_count": 20,
   "id": "d91f3582",
   "metadata": {},
   "outputs": [
    {
     "data": {
      "text/plain": [
       "['apple', 'banana', 'dragon', 'watermelon', 'grapes', 'papaya']"
      ]
     },
     "execution_count": 20,
     "metadata": {},
     "output_type": "execute_result"
    }
   ],
   "source": [
    "Fruits.pop()\n",
    "Fruits"
   ]
  },
  {
   "cell_type": "code",
   "execution_count": 23,
   "id": "3a4f51c6",
   "metadata": {},
   "outputs": [
    {
     "data": {
      "text/plain": [
       "['apple', 'banana', 'dragon', 'watermelon', 'grapes', 'papaya', 'lemon']"
      ]
     },
     "execution_count": 23,
     "metadata": {},
     "output_type": "execute_result"
    }
   ],
   "source": [
    "Fruits.append(\"lemon\")\n",
    "Fruits"
   ]
  },
  {
   "cell_type": "code",
   "execution_count": 26,
   "id": "74f899b0",
   "metadata": {},
   "outputs": [
    {
     "name": "stdout",
     "output_type": "stream",
     "text": [
      "['lemon', 'papaya', 'grapes', 'watermelon', 'dragon', 'banana', 'apple']\n"
     ]
    }
   ],
   "source": [
    "Fruits.reverse()\n",
    "print(Fruits)"
   ]
  },
  {
   "cell_type": "code",
   "execution_count": 27,
   "id": "d4be6f6d",
   "metadata": {},
   "outputs": [
    {
     "name": "stdout",
     "output_type": "stream",
     "text": [
      "7\n"
     ]
    }
   ],
   "source": [
    "print(len(Fruits))"
   ]
  },
  {
   "cell_type": "code",
   "execution_count": 28,
   "id": "06e0f9dd",
   "metadata": {},
   "outputs": [
    {
     "data": {
      "text/plain": [
       "['apple', 'banana', 'dragon', 'grapes', 'lemon', 'papaya', 'watermelon']"
      ]
     },
     "execution_count": 28,
     "metadata": {},
     "output_type": "execute_result"
    }
   ],
   "source": [
    "Fruits.sort()\n",
    "Fruits"
   ]
  },
  {
   "cell_type": "code",
   "execution_count": 29,
   "id": "cc3f0c59",
   "metadata": {},
   "outputs": [
    {
     "data": {
      "text/plain": [
       "['apple', 'banana', 'dragon', 'grapes', 'papaya', 'watermelon']"
      ]
     },
     "execution_count": 29,
     "metadata": {},
     "output_type": "execute_result"
    }
   ],
   "source": [
    "Fruits.pop(4)\n",
    "Fruits"
   ]
  },
  {
   "cell_type": "code",
   "execution_count": 30,
   "id": "ea8c39ee",
   "metadata": {},
   "outputs": [
    {
     "data": {
      "text/plain": [
       "[]"
      ]
     },
     "execution_count": 30,
     "metadata": {},
     "output_type": "execute_result"
    }
   ],
   "source": [
    "Fruits.clear()\n",
    "Fruits"
   ]
  },
  {
   "cell_type": "code",
   "execution_count": 31,
   "id": "c492e056",
   "metadata": {},
   "outputs": [],
   "source": [
    "del Fruits"
   ]
  },
  {
   "cell_type": "code",
   "execution_count": 39,
   "id": "bfe91b35",
   "metadata": {},
   "outputs": [
    {
     "name": "stdout",
     "output_type": "stream",
     "text": [
      "['apple', 52, (2+3j), 46.34, True, False]\n",
      "6\n",
      "<class 'list'>\n"
     ]
    }
   ],
   "source": [
    "items=[\"apple\",52,2+3j,46.34,True,False]\n",
    "print(items)\n",
    "print(len(items))\n",
    "print(type(items))"
   ]
  },
  {
   "cell_type": "code",
   "execution_count": 40,
   "id": "5ff7686b",
   "metadata": {},
   "outputs": [
    {
     "data": {
      "text/plain": [
       "1"
      ]
     },
     "execution_count": 40,
     "metadata": {},
     "output_type": "execute_result"
    }
   ],
   "source": [
    "items.count(\"apple\")"
   ]
  },
  {
   "cell_type": "code",
   "execution_count": 43,
   "id": "ab5faf74",
   "metadata": {},
   "outputs": [
    {
     "data": {
      "text/plain": [
       "['banana', 52, (2+3j), 46.34, True, False]"
      ]
     },
     "execution_count": 43,
     "metadata": {},
     "output_type": "execute_result"
    }
   ],
   "source": [
    "#replace object inside list by using index number\n",
    "items[0]=\"banana\"\n",
    "items"
   ]
  },
  {
   "cell_type": "code",
   "execution_count": 44,
   "id": "b2bc52c4",
   "metadata": {},
   "outputs": [
    {
     "name": "stdout",
     "output_type": "stream",
     "text": [
      "('banana', 52, (2+3j), 46.34, True, False)\n",
      "<class 'tuple'>\n"
     ]
    }
   ],
   "source": [
    "## convert list to tuple\n",
    "x=items\n",
    "y=tuple(x)\n",
    "print(y)\n",
    "print(type(y))"
   ]
  },
  {
   "cell_type": "code",
   "execution_count": 48,
   "id": "9b9a99a6",
   "metadata": {},
   "outputs": [
    {
     "data": {
      "text/plain": [
       "['banana',\n",
       " 52,\n",
       " (2+3j),\n",
       " 46.34,\n",
       " True,\n",
       " False,\n",
       " 98,\n",
       " 23.41,\n",
       " 'hey buddy',\n",
       " 98,\n",
       " 23.41,\n",
       " 'hey buddy']"
      ]
     },
     "execution_count": 48,
     "metadata": {},
     "output_type": "execute_result"
    }
   ],
   "source": [
    "##to add more than one item we used the extend function\n",
    "items.extend([98,23.41,\"hey buddy\"])\n",
    "items"
   ]
  },
  {
   "cell_type": "markdown",
   "id": "cd6b94cd",
   "metadata": {},
   "source": [
    "# TUPLE"
   ]
  },
  {
   "cell_type": "markdown",
   "id": "6c4391ac",
   "metadata": {},
   "source": [
    "Tuples are used to stored multiple items in a single variable,\n",
    "we cannot change the elements of tuple once its assigned"
   ]
  },
  {
   "cell_type": "code",
   "execution_count": 61,
   "id": "33bd6037",
   "metadata": {},
   "outputs": [
    {
     "name": "stdout",
     "output_type": "stream",
     "text": [
      "('This is first assignment', 25) <class 'tuple'>\n"
     ]
    }
   ],
   "source": [
    "z=(\"This is first assignment\",25)\n",
    "print(z,type(z))"
   ]
  },
  {
   "cell_type": "code",
   "execution_count": 49,
   "id": "646f892e",
   "metadata": {},
   "outputs": [
    {
     "name": "stdout",
     "output_type": "stream",
     "text": [
      "('hello', [10, 25, 30], 30.63, (2+6j), ('rehan', 'adeeb', 'nemath', 'irshad'), [True, False])\n",
      "<class 'tuple'>\n"
     ]
    }
   ],
   "source": [
    "a=(\"hello\",[10,25,30],30.63,2+6j,(\"rehan\",\"adeeb\",\"nemath\",\"irshad\"),[True,False])\n",
    "print(a)\n",
    "print(type(a))"
   ]
  },
  {
   "cell_type": "code",
   "execution_count": 58,
   "id": "3f0d9aec",
   "metadata": {},
   "outputs": [
    {
     "name": "stdout",
     "output_type": "stream",
     "text": [
      "30\n",
      "40\n",
      "450\n"
     ]
    }
   ],
   "source": [
    "x=(10,20,30)\n",
    "y=(40,50,60)\n",
    "z=(70,80,90)\n",
    "\n",
    "print(max(x))\n",
    "print(min(y))\n",
    "print(sum(x+y+z))"
   ]
  },
  {
   "cell_type": "code",
   "execution_count": 59,
   "id": "30454542",
   "metadata": {},
   "outputs": [
    {
     "name": "stdout",
     "output_type": "stream",
     "text": [
      "True\n"
     ]
    }
   ],
   "source": [
    "print(50 in y)"
   ]
  },
  {
   "cell_type": "code",
   "execution_count": 67,
   "id": "363ec047",
   "metadata": {},
   "outputs": [
    {
     "name": "stdout",
     "output_type": "stream",
     "text": [
      "True\n"
     ]
    }
   ],
   "source": [
    "print(90 not in y)"
   ]
  },
  {
   "cell_type": "code",
   "execution_count": 74,
   "id": "1f163f4a",
   "metadata": {},
   "outputs": [
    {
     "name": "stdout",
     "output_type": "stream",
     "text": [
      "False\n"
     ]
    }
   ],
   "source": [
    "print(100 in z)"
   ]
  },
  {
   "cell_type": "code",
   "execution_count": 75,
   "id": "25eb6755",
   "metadata": {},
   "outputs": [],
   "source": [
    "t=(\"hello\",25,60.03,5+23j,True)"
   ]
  },
  {
   "cell_type": "code",
   "execution_count": 81,
   "id": "f51b6894",
   "metadata": {},
   "outputs": [
    {
     "name": "stdout",
     "output_type": "stream",
     "text": [
      "['hello', 25, 60.03, (5+23j), True]\n",
      "<class 'list'>\n"
     ]
    }
   ],
   "source": [
    "## convert tuple to list\n",
    "i=t\n",
    "j=list(i)\n",
    "print(j)\n",
    "print(type(j))"
   ]
  },
  {
   "cell_type": "markdown",
   "id": "cb5470a2",
   "metadata": {},
   "source": [
    "# DICTIONARY "
   ]
  },
  {
   "cell_type": "markdown",
   "id": "fda1a7d9",
   "metadata": {},
   "source": [
    "In Dictionary we used data in key value pairs,it doesn't allow duplicates"
   ]
  },
  {
   "cell_type": "code",
   "execution_count": 103,
   "id": "49cd3d39",
   "metadata": {},
   "outputs": [
    {
     "name": "stdout",
     "output_type": "stream",
     "text": [
      "{'Name': 'Rehan', 'Id': 2563, 'Education': 'B.E', 'year': 2023}\n",
      "<class 'dict'>\n"
     ]
    }
   ],
   "source": [
    "inf={\"Name\":\"Rehan\",\"Id\":2563,\"Education\":\"B.E\",\"year\":2023}\n",
    "print(inf)\n",
    "print(type(inf))"
   ]
  },
  {
   "cell_type": "code",
   "execution_count": 104,
   "id": "d8238a3b",
   "metadata": {},
   "outputs": [
    {
     "name": "stdout",
     "output_type": "stream",
     "text": [
      "4\n"
     ]
    }
   ],
   "source": [
    "print(len(inf))"
   ]
  },
  {
   "cell_type": "code",
   "execution_count": 105,
   "id": "c95cf61c",
   "metadata": {},
   "outputs": [
    {
     "data": {
      "text/plain": [
       "{'Name': 'Rehan',\n",
       " 'Id': 2563,\n",
       " 'Education': 'B.E',\n",
       " 'year': 2023,\n",
       " 'address': 'Telangana'}"
      ]
     },
     "execution_count": 105,
     "metadata": {},
     "output_type": "execute_result"
    }
   ],
   "source": [
    "inf[\"address\"]=\"Telangana\"\n",
    "inf"
   ]
  },
  {
   "cell_type": "code",
   "execution_count": 106,
   "id": "d7c21943",
   "metadata": {},
   "outputs": [
    {
     "data": {
      "text/plain": [
       "{'Name': 'Rehan', 'Id': 2563, 'Education': 'B.E', 'year': 2023}"
      ]
     },
     "execution_count": 106,
     "metadata": {},
     "output_type": "execute_result"
    }
   ],
   "source": [
    "del inf['address']\n",
    "inf"
   ]
  },
  {
   "cell_type": "code",
   "execution_count": 107,
   "id": "2ed447bb",
   "metadata": {},
   "outputs": [
    {
     "data": {
      "text/plain": [
       "{'Name': 'Rehan', 'Id': 2563, 'Education': 'B.E'}"
      ]
     },
     "execution_count": 107,
     "metadata": {},
     "output_type": "execute_result"
    }
   ],
   "source": [
    "inf.pop('year')\n",
    "inf"
   ]
  },
  {
   "cell_type": "code",
   "execution_count": 108,
   "id": "4c862bd6",
   "metadata": {},
   "outputs": [
    {
     "data": {
      "text/plain": [
       "{'Name': 'Rehan', 'Id': 2563, 'Education': 'B.E', 'Grade': 'A'}"
      ]
     },
     "execution_count": 108,
     "metadata": {},
     "output_type": "execute_result"
    }
   ],
   "source": [
    "inf[\"Grade\"]=\"A\"\n",
    "inf"
   ]
  },
  {
   "cell_type": "code",
   "execution_count": 109,
   "id": "edfde9d3",
   "metadata": {},
   "outputs": [
    {
     "data": {
      "text/plain": [
       "{'Name': 'Rehan', 'Id': 100, 'Education': 'B.E', 'Grade': 'A'}"
      ]
     },
     "execution_count": 109,
     "metadata": {},
     "output_type": "execute_result"
    }
   ],
   "source": [
    "inf.update({\"Id\":100})\n",
    "inf"
   ]
  },
  {
   "cell_type": "code",
   "execution_count": 110,
   "id": "d3234fd3",
   "metadata": {},
   "outputs": [
    {
     "data": {
      "text/plain": [
       "dict_keys(['Name', 'Id', 'Education', 'Grade'])"
      ]
     },
     "execution_count": 110,
     "metadata": {},
     "output_type": "execute_result"
    }
   ],
   "source": [
    "inf.keys()"
   ]
  },
  {
   "cell_type": "code",
   "execution_count": 111,
   "id": "76faa9ea",
   "metadata": {},
   "outputs": [
    {
     "data": {
      "text/plain": [
       "dict_values(['Rehan', 100, 'B.E', 'A'])"
      ]
     },
     "execution_count": 111,
     "metadata": {},
     "output_type": "execute_result"
    }
   ],
   "source": [
    "inf.values()"
   ]
  },
  {
   "cell_type": "code",
   "execution_count": 112,
   "id": "08af5a86",
   "metadata": {},
   "outputs": [
    {
     "name": "stdout",
     "output_type": "stream",
     "text": [
      "Rehan\n"
     ]
    }
   ],
   "source": [
    "print(inf['Name'])"
   ]
  },
  {
   "cell_type": "code",
   "execution_count": 113,
   "id": "72ef6b6c",
   "metadata": {},
   "outputs": [
    {
     "name": "stdout",
     "output_type": "stream",
     "text": [
      "100\n"
     ]
    }
   ],
   "source": [
    "print(inf.get('Id'))"
   ]
  },
  {
   "cell_type": "code",
   "execution_count": 114,
   "id": "5d726262",
   "metadata": {},
   "outputs": [
    {
     "data": {
      "text/plain": [
       "{'Name': 'Rehan',\n",
       " 'Id': 100,\n",
       " 'Education': 'B.E',\n",
       " 'Grade': 'A',\n",
       " 'university': 'osmania'}"
      ]
     },
     "execution_count": 114,
     "metadata": {},
     "output_type": "execute_result"
    }
   ],
   "source": [
    "inf['university']=\"osmania\"\n",
    "inf"
   ]
  },
  {
   "cell_type": "code",
   "execution_count": 115,
   "id": "c2091f6b",
   "metadata": {},
   "outputs": [
    {
     "data": {
      "text/plain": [
       "{'Name': 'Rehan',\n",
       " 'Id': 100,\n",
       " 'Education': 'B.E',\n",
       " 'Grade': 'A',\n",
       " 'university': 'Osmania'}"
      ]
     },
     "execution_count": 115,
     "metadata": {},
     "output_type": "execute_result"
    }
   ],
   "source": [
    "inf[\"university\"]=\"Osmania\"\n",
    "inf"
   ]
  },
  {
   "cell_type": "code",
   "execution_count": 116,
   "id": "66fa09d5",
   "metadata": {},
   "outputs": [
    {
     "name": "stdout",
     "output_type": "stream",
     "text": [
      "True\n"
     ]
    }
   ],
   "source": [
    "print(\"university\" in inf)"
   ]
  },
  {
   "cell_type": "code",
   "execution_count": 117,
   "id": "b0d72c9d",
   "metadata": {},
   "outputs": [
    {
     "name": "stdout",
     "output_type": "stream",
     "text": [
      "Osmania\n"
     ]
    }
   ],
   "source": [
    "print(inf['university'])"
   ]
  },
  {
   "cell_type": "code",
   "execution_count": 126,
   "id": "1f1c9e18",
   "metadata": {},
   "outputs": [
    {
     "name": "stdout",
     "output_type": "stream",
     "text": [
      "<class 'dict'>\n",
      "{'Month': ['jan', 'feb', 'mar'], 'items': ('laptop', 'mobile', 'camera'), 'Amount': 1526435, 'Fig': (25+67j)}\n"
     ]
    }
   ],
   "source": [
    "dt={\"Month\":[\"jan\",\"feb\",\"mar\"],\"items\":(\"laptop\",\"mobile\",\"camera\"),\"Amount\":1526435,\"Fig\":25+67j}\n",
    "print(type(dt))\n",
    "print(dt)"
   ]
  },
  {
   "cell_type": "code",
   "execution_count": 133,
   "id": "b79d54f5",
   "metadata": {},
   "outputs": [
    {
     "name": "stdout",
     "output_type": "stream",
     "text": [
      "{'apple': 251, 'banana': 324, 'mango': 560}\n",
      "<class 'dict'>\n"
     ]
    }
   ],
   "source": [
    "##convert tuple to dict\n",
    "x=dict(apple=251,banana=324,mango=560)\n",
    "print(x)\n",
    "print(type(x))"
   ]
  },
  {
   "cell_type": "markdown",
   "id": "8f335e52",
   "metadata": {},
   "source": [
    "# SETS"
   ]
  },
  {
   "cell_type": "code",
   "execution_count": 134,
   "id": "fe274506",
   "metadata": {},
   "outputs": [
    {
     "name": "stdout",
     "output_type": "stream",
     "text": [
      "{'cat', 'ball', 'apple'}\n",
      "<class 'set'>\n"
     ]
    }
   ],
   "source": [
    "a={\"apple\",\"ball\",\"cat\"}\n",
    "print(a)\n",
    "print(type(a))"
   ]
  },
  {
   "cell_type": "code",
   "execution_count": 138,
   "id": "f9dc4dad",
   "metadata": {},
   "outputs": [
    {
     "name": "stdout",
     "output_type": "stream",
     "text": [
      "{'dog', 'cat', 'ball', 'frog', 'apple', 'giraffe', 'elephant'}\n"
     ]
    }
   ],
   "source": [
    "b={\"dog\",\"elephant\",\"frog\",\"giraffe\"}\n",
    "c=a.union(b)\n",
    "print(c)\n"
   ]
  },
  {
   "cell_type": "code",
   "execution_count": 139,
   "id": "8ad02027",
   "metadata": {},
   "outputs": [
    {
     "name": "stdout",
     "output_type": "stream",
     "text": [
      "{'cat', 'frog'}\n"
     ]
    }
   ],
   "source": [
    "d={\"frog\",\"cat\",\"peacock\",\"tiger\"}\n",
    "print(c.intersection(d))"
   ]
  },
  {
   "cell_type": "code",
   "execution_count": 141,
   "id": "3971cf78",
   "metadata": {},
   "outputs": [
    {
     "name": "stdout",
     "output_type": "stream",
     "text": [
      "{'cat', 'ball', 100, 'apple'}\n"
     ]
    }
   ],
   "source": [
    "a.add(100)\n",
    "print(a)"
   ]
  },
  {
   "cell_type": "code",
   "execution_count": 142,
   "id": "5d7e757c",
   "metadata": {},
   "outputs": [
    {
     "data": {
      "text/plain": [
       "{'cat', 'frog', 'peacock'}"
      ]
     },
     "execution_count": 142,
     "metadata": {},
     "output_type": "execute_result"
    }
   ],
   "source": [
    "d.discard(\"tiger\")\n",
    "d"
   ]
  },
  {
   "cell_type": "code",
   "execution_count": 143,
   "id": "36f427d2",
   "metadata": {},
   "outputs": [
    {
     "data": {
      "text/plain": [
       "{'cat', 'frog', 'lion', 'peacock', 'zebra'}"
      ]
     },
     "execution_count": 143,
     "metadata": {},
     "output_type": "execute_result"
    }
   ],
   "source": [
    "d.update([\"lion\",\"zebra\"])\n",
    "d"
   ]
  },
  {
   "cell_type": "code",
   "execution_count": 144,
   "id": "2fdff5f8",
   "metadata": {},
   "outputs": [
    {
     "data": {
      "text/plain": [
       "{'frog', 'lion', 'peacock', 'zebra'}"
      ]
     },
     "execution_count": 144,
     "metadata": {},
     "output_type": "execute_result"
    }
   ],
   "source": [
    "d.pop()\n",
    "d"
   ]
  },
  {
   "cell_type": "code",
   "execution_count": 145,
   "id": "764000f9",
   "metadata": {},
   "outputs": [
    {
     "data": {
      "text/plain": [
       "{'frog', 'lion', 'zebra'}"
      ]
     },
     "execution_count": 145,
     "metadata": {},
     "output_type": "execute_result"
    }
   ],
   "source": [
    "d.remove(\"peacock\")\n",
    "d"
   ]
  },
  {
   "cell_type": "code",
   "execution_count": 147,
   "id": "44082207",
   "metadata": {},
   "outputs": [
    {
     "name": "stdout",
     "output_type": "stream",
     "text": [
      "True\n"
     ]
    }
   ],
   "source": [
    "x={60,20,40,50,30}\n",
    "y={40,30,50}\n",
    "print(y.issubset(x))"
   ]
  },
  {
   "cell_type": "code",
   "execution_count": 148,
   "id": "c8ef4d9b",
   "metadata": {},
   "outputs": [
    {
     "name": "stdout",
     "output_type": "stream",
     "text": [
      "True\n"
     ]
    }
   ],
   "source": [
    "print(x.issuperset(y))"
   ]
  },
  {
   "cell_type": "code",
   "execution_count": null,
   "id": "19882a50",
   "metadata": {},
   "outputs": [],
   "source": []
  },
  {
   "cell_type": "code",
   "execution_count": null,
   "id": "8f70bd8e",
   "metadata": {},
   "outputs": [],
   "source": []
  }
 ],
 "metadata": {
  "kernelspec": {
   "display_name": "Python 3 (ipykernel)",
   "language": "python",
   "name": "python3"
  },
  "language_info": {
   "codemirror_mode": {
    "name": "ipython",
    "version": 3
   },
   "file_extension": ".py",
   "mimetype": "text/x-python",
   "name": "python",
   "nbconvert_exporter": "python",
   "pygments_lexer": "ipython3",
   "version": "3.11.4"
  }
 },
 "nbformat": 4,
 "nbformat_minor": 5
}
